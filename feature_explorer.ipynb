{
 "cells": [
  {
   "cell_type": "markdown",
   "metadata": {},
   "source": [
    "# Duolingo SLAM Explorer"
   ]
  },
  {
   "cell_type": "markdown",
   "metadata": {},
   "source": [
    "We are focus on creating new features to use with the gradient boosted trees (microsoft lightgbm):\n",
    "\n",
    "---\n",
    "So far Alex created features that fall into these categories:\n",
    "\n",
    "**Basic word features:**  \n",
    "These are a bit like the mental lexicon.  Definitions, stuff you look up in wordnet.  Noun? Verb?\n",
    "Plural?, etc...  Many came for free from the dataset itself and we aren't sure about adding too much more here. We aren't word people anyway.\n",
    "- word length\n",
    "- morphological features\n",
    "- tokenid (one-hot word index)\n",
    "\n",
    "**Position/sequence features:**  \n",
    "These are sort of like grammatical aspect because captures something about sequential structure.\n",
    "- previous word part of speeach\n",
    "- next word part of speech\n",
    "- root word part of speach \n",
    "\n",
    "**User features:**  \n",
    "Features about the users themselves.\n",
    "- userid (one-hot user index)\n",
    "\n",
    "**Temporal features (per word):**  \n",
    "- number of observation of a word (total, unlabeled, labeled)\n",
    "- time since last observation (lab, unlabeled)\n",
    "- exponentially smoothed running average of probabily of remembering (4 different fixed rates).  no here decay in absense of information\n",
    "- is it 1st encounter with word? (true/false)\n",
    "\n",
    "**Semantic features:**  \n",
    "Not sure if these are particularly useful here.  Something about word meaning, similarities in meanings, e.g., positive or negative word, emotion?, some might be in the basic features, etc...\n",
    "- none currently\n",
    "\n",
    "---\n",
    "Plan of attack for this weekend:  \n",
    "1. [ ] Focus on user features (more information about user motivation, session structure, etc...).  (**Anselm is pursuing this**)\n",
    "1. [ ] Focus on temporal features that capture spaced/massed practice.  (**Alex is pursuing this**) \n",
    "1. [ ] Model something about context (repeated contexts aid memory) (**Todd is pursuing this**)\n",
    "1. [ ] Cognates and word similarity both in terms of letters and meaning (**Pam is pursuing this**)"
   ]
  },
  {
   "cell_type": "code",
   "execution_count": 1,
   "metadata": {
    "collapsed": true
   },
   "outputs": [],
   "source": [
    "import os\n",
    "#from processing import build_data\n",
    "import pandas as pd\n",
    "from sklearn.feature_extraction import DictVectorizer\n",
    "from sklearn.metrics import roc_auc_score\n",
    "#import lightgbm as lgb"
   ]
  },
  {
   "cell_type": "markdown",
   "metadata": {},
   "source": [
    "<div class=\"alert alert-warning\">\n",
    "You can control what language you are messing with here: options are `all`, `en_es` (reverse spanish), `fr_en` (french), `es_en` (spanish)\n",
    "</div>"
   ]
  },
  {
   "cell_type": "code",
   "execution_count": 27,
   "metadata": {
    "collapsed": true
   },
   "outputs": [],
   "source": [
    "# use this to change language pair trained on\n",
    "lang = 'en_es'"
   ]
  },
  {
   "cell_type": "markdown",
   "metadata": {},
   "source": [
    "<div class=\"alert alert-warning\">\n",
    "The main script for parsing and constructing features is `processing.py`.  You should edit it in a different editor (e.g., sublime) and then run the cell below to re-load it into this jupyter kernel.\n",
    "</div>"
   ]
  },
  {
   "cell_type": "code",
   "execution_count": 41,
   "metadata": {},
   "outputs": [],
   "source": [
    "%run processing"
   ]
  },
  {
   "cell_type": "code",
   "execution_count": 110,
   "metadata": {},
   "outputs": [
    {
     "name": "stdout",
     "output_type": "stream",
     "text": [
      "loading data files\n",
      "retrieving labels\n",
      "building features\n",
      "retrieving features\n"
     ]
    }
   ],
   "source": [
    "# configuration options\n",
    "NUSERS = 10. # set this to None to load all the users for the given language\n",
    "FEATUREIZED = False # set this to true to return the features as dict() instead of instances of the User() class\n",
    "\n",
    "# load data\n",
    "if lang == 'all':\n",
    "    data = build_data(\n",
    "        'all',\n",
    "        [\n",
    "            'data/data_{0}/{0}.slam.20171218.train.new'.format('en_es'),\n",
    "            'data/data_{0}/{0}.slam.20171218.train.new'.format('fr_en'),\n",
    "            'data/data_{0}/{0}.slam.20171218.train.new'.format('es_en')\n",
    "        ],\n",
    "        [\n",
    "            'data/data_{0}/{0}.slam.20171218.dev.new'.format('en_es'),\n",
    "            'data/data_{0}/{0}.slam.20171218.dev.new'.format('fr_en'),\n",
    "            'data/data_{0}/{0}.slam.20171218.dev.new'.format('es_en')\n",
    "        ],\n",
    "        labelfiles=[\n",
    "            'data/data_{0}/{0}.slam.20171218.dev.key'.format('en_es'),\n",
    "            'data/data_{0}/{0}.slam.20171218.dev.key'.format('fr_en'),\n",
    "            'data/data_{0}/{0}.slam.20171218.dev.key'.format('es_en')\n",
    "        ],\n",
    "        n_users=NUSERS, featurized=FEATUREIZED)\n",
    "else:\n",
    "    data = build_data(\n",
    "        lang[:2],\n",
    "        ['data/data_{0}/{0}.slam.20171218.train.new'.format(lang)],\n",
    "        ['data/data_{0}/{0}.slam.20171218.dev.new'.format(lang)],\n",
    "        labelfiles=['data/data_{0}/{0}.slam.20171218.dev.key'.format(lang)],\n",
    "        n_users=NUSERS, featurized=FEATUREIZED)\n",
    "train_x, train_ids, train_y, test_x, test_ids, test_y = data"
   ]
  },
  {
   "cell_type": "code",
   "execution_count": 111,
   "metadata": {},
   "outputs": [
    {
     "data": {
      "text/plain": [
       "[<__main__.User at 0x188a9c588>,\n",
       " <__main__.User at 0x188e01f98>,\n",
       " <__main__.User at 0x189d30470>,\n",
       " <__main__.User at 0x18b53b470>,\n",
       " <__main__.User at 0x18b68f908>,\n",
       " <__main__.User at 0x18b800400>,\n",
       " <__main__.User at 0x18bda8438>,\n",
       " <__main__.User at 0x18c08d6a0>,\n",
       " <__main__.User at 0x18c456828>,\n",
       " <__main__.User at 0x18c61e668>]"
      ]
     },
     "execution_count": 111,
     "metadata": {},
     "output_type": "execute_result"
    }
   ],
   "source": [
    "train_x"
   ]
  },
  {
   "cell_type": "raw",
   "metadata": {},
   "source": []
  },
  {
   "cell_type": "markdown",
   "metadata": {},
   "source": [
    "If you ran with `FEATUREIZED = False` then the following cells will let you explore individual users:\n",
    "\n",
    "---"
   ]
  },
  {
   "cell_type": "markdown",
   "metadata": {},
   "source": [
    "## Exploring the basic data structures programatically"
   ]
  },
  {
   "cell_type": "markdown",
   "metadata": {},
   "source": [
    "Get the user id and the languge out of the user object:"
   ]
  },
  {
   "cell_type": "code",
   "execution_count": 49,
   "metadata": {},
   "outputs": [
    {
     "data": {
      "text/plain": [
       "('XEinXf5+en', 'XEinXf5+en', 'en')"
      ]
     },
     "execution_count": 49,
     "metadata": {},
     "output_type": "execute_result"
    }
   ],
   "source": [
    "train_x[0].id, train_x[0].features['user'], train_x[0].features['lang']"
   ]
  },
  {
   "cell_type": "markdown",
   "metadata": {},
   "source": [
    "A list of the exercises this user completed each as a Exercise() instance:"
   ]
  },
  {
   "cell_type": "code",
   "execution_count": 44,
   "metadata": {},
   "outputs": [
    {
     "data": {
      "text/plain": [
       "[<__main__.Exercise at 0x185507b38>,\n",
       " <__main__.Exercise at 0x185507b70>,\n",
       " <__main__.Exercise at 0x18dd2fd68>,\n",
       " <__main__.Exercise at 0x18dd2f400>,\n",
       " <__main__.Exercise at 0x18d9b4588>,\n",
       " <__main__.Exercise at 0x18d0f3cc0>,\n",
       " <__main__.Exercise at 0x18d0f3208>,\n",
       " <__main__.Exercise at 0x18d5b0898>,\n",
       " <__main__.Exercise at 0x18d5b06a0>,\n",
       " <__main__.Exercise at 0x18d5b4860>,\n",
       " <__main__.Exercise at 0x18d5b4c88>,\n",
       " <__main__.Exercise at 0x18d5b4390>,\n",
       " <__main__.Exercise at 0x18d0bd5c0>,\n",
       " <__main__.Exercise at 0x18d0bd390>,\n",
       " <__main__.Exercise at 0x18d0b9c18>,\n",
       " <__main__.Exercise at 0x18d0b9160>,\n",
       " <__main__.Exercise at 0x18dc6cac8>,\n",
       " <__main__.Exercise at 0x18dc6c0b8>,\n",
       " <__main__.Exercise at 0x18dc6fd30>,\n",
       " <__main__.Exercise at 0x18dc6f518>,\n",
       " <__main__.Exercise at 0x18d863f28>,\n",
       " <__main__.Exercise at 0x18d863710>,\n",
       " <__main__.Exercise at 0x18d859978>,\n",
       " <__main__.Exercise at 0x18d85deb8>,\n",
       " <__main__.Exercise at 0x18d85d438>,\n",
       " <__main__.Exercise at 0x18d862978>,\n",
       " <__main__.Exercise at 0x18dd7ddd8>,\n",
       " <__main__.Exercise at 0x18dd7d358>,\n",
       " <__main__.Exercise at 0x18dd76828>,\n",
       " <__main__.Exercise at 0x18dd78828>,\n",
       " <__main__.Exercise at 0x18dd78d30>,\n",
       " <__main__.Exercise at 0x18dd78080>,\n",
       " <__main__.Exercise at 0x18dd7a898>,\n",
       " <__main__.Exercise at 0x18dd7a278>,\n",
       " <__main__.Exercise at 0x18dd7aeb8>,\n",
       " <__main__.Exercise at 0x18d132e10>,\n",
       " <__main__.Exercise at 0x18d1323c8>,\n",
       " <__main__.Exercise at 0x18d13e9e8>,\n",
       " <__main__.Exercise at 0x18d13ee80>,\n",
       " <__main__.Exercise at 0x18d13e0f0>,\n",
       " <__main__.Exercise at 0x18d136eb8>,\n",
       " <__main__.Exercise at 0x18d136320>,\n",
       " <__main__.Exercise at 0x18d137668>,\n",
       " <__main__.Exercise at 0x18d137cf8>,\n",
       " <__main__.Exercise at 0x18d137240>,\n",
       " <__main__.Exercise at 0x18dfa1b00>,\n",
       " <__main__.Exercise at 0x18dfa1278>,\n",
       " <__main__.Exercise at 0x18df9c5f8>,\n",
       " <__main__.Exercise at 0x18df8cb00>,\n",
       " <__main__.Exercise at 0x18df8cf98>,\n",
       " <__main__.Exercise at 0x18df88b70>,\n",
       " <__main__.Exercise at 0x18df8b668>,\n",
       " <__main__.Exercise at 0x18df8bef0>,\n",
       " <__main__.Exercise at 0x18df91630>,\n",
       " <__main__.Exercise at 0x18df91d30>,\n",
       " <__main__.Exercise at 0x18df94a58>,\n",
       " <__main__.Exercise at 0x18df94f28>,\n",
       " <__main__.Exercise at 0x18df98978>,\n",
       " <__main__.Exercise at 0x18df99ef0>,\n",
       " <__main__.Exercise at 0x18df992b0>,\n",
       " <__main__.Exercise at 0x185529588>,\n",
       " <__main__.Exercise at 0x185529e48>,\n",
       " <__main__.Exercise at 0x1855269e8>,\n",
       " <__main__.Exercise at 0x185526550>,\n",
       " <__main__.Exercise at 0x185526d30>,\n",
       " <__main__.Exercise at 0x1855238d0>,\n",
       " <__main__.Exercise at 0x1855234a8>,\n",
       " <__main__.Exercise at 0x185523f28>,\n",
       " <__main__.Exercise at 0x18551d9b0>,\n",
       " <__main__.Exercise at 0x18551d518>,\n",
       " <__main__.Exercise at 0x18551bf28>,\n",
       " <__main__.Exercise at 0x18551b4e0>,\n",
       " <__main__.Exercise at 0x185516cf8>,\n",
       " <__main__.Exercise at 0x185516978>,\n",
       " <__main__.Exercise at 0x185511a20>,\n",
       " <__main__.Exercise at 0x185511710>,\n",
       " <__main__.Exercise at 0x18550e9b0>,\n",
       " <__main__.Exercise at 0x18550e358>,\n",
       " <__main__.Exercise at 0x18550b518>,\n",
       " <__main__.Exercise at 0x18550be10>,\n",
       " <__main__.Exercise at 0x18550b1d0>,\n",
       " <__main__.Exercise at 0x18d092b00>,\n",
       " <__main__.Exercise at 0x18d092e48>,\n",
       " <__main__.Exercise at 0x18d092630>,\n",
       " <__main__.Exercise at 0x18d08d710>,\n",
       " <__main__.Exercise at 0x18d08dbe0>,\n",
       " <__main__.Exercise at 0x18d08d278>,\n",
       " <__main__.Exercise at 0x18d08ca20>,\n",
       " <__main__.Exercise at 0x18d08c128>,\n",
       " <__main__.Exercise at 0x18d08ae48>,\n",
       " <__main__.Exercise at 0x18d08a4e0>,\n",
       " <__main__.Exercise at 0x18d087f60>,\n",
       " <__main__.Exercise at 0x18d087668>,\n",
       " <__main__.Exercise at 0x18d081f28>,\n",
       " <__main__.Exercise at 0x18d0814a8>,\n",
       " <__main__.Exercise at 0x18d080908>,\n",
       " <__main__.Exercise at 0x18d080dd8>,\n",
       " <__main__.Exercise at 0x18d07bcc0>,\n",
       " <__main__.Exercise at 0x18d07b898>,\n",
       " <__main__.Exercise at 0x18d079630>,\n",
       " <__main__.Exercise at 0x18d076ba8>,\n",
       " <__main__.Exercise at 0x18d076208>,\n",
       " <__main__.Exercise at 0x18d072a90>,\n",
       " <__main__.Exercise at 0x18d0725c0>,\n",
       " <__main__.Exercise at 0x18d072eb8>,\n",
       " <__main__.Exercise at 0x18e0becc0>,\n",
       " <__main__.Exercise at 0x18e0be748>,\n",
       " <__main__.Exercise at 0x18e0c3550>,\n",
       " <__main__.Exercise at 0x18e0c3860>,\n",
       " <__main__.Exercise at 0x18e0c3da0>,\n",
       " <__main__.Exercise at 0x18e0c3198>,\n",
       " <__main__.Exercise at 0x18e0c6470>,\n",
       " <__main__.Exercise at 0x18e0c6cf8>,\n",
       " <__main__.Exercise at 0x18e0c6208>,\n",
       " <__main__.Exercise at 0x18e0c99b0>,\n",
       " <__main__.Exercise at 0x18e0ccb00>,\n",
       " <__main__.Exercise at 0x18e0cc3c8>,\n",
       " <__main__.Exercise at 0x18e0d2e10>,\n",
       " <__main__.Exercise at 0x18e0d2550>,\n",
       " <__main__.Exercise at 0x18e0d48d0>,\n",
       " <__main__.Exercise at 0x18e0d4f98>,\n",
       " <__main__.Exercise at 0x18e0d8860>,\n",
       " <__main__.Exercise at 0x18e0db9b0>,\n",
       " <__main__.Exercise at 0x18e0db358>,\n",
       " <__main__.Exercise at 0x18e0dcda0>,\n",
       " <__main__.Exercise at 0x18e0dc470>,\n",
       " <__main__.Exercise at 0x18e0e2dd8>,\n",
       " <__main__.Exercise at 0x18e0e2710>,\n",
       " <__main__.Exercise at 0x18e0e5d68>,\n",
       " <__main__.Exercise at 0x18e0e55f8>,\n",
       " <__main__.Exercise at 0x1855076a0>,\n",
       " <__main__.Exercise at 0x18e0e8e48>,\n",
       " <__main__.Exercise at 0x18e0ebf98>,\n",
       " <__main__.Exercise at 0x18e0eb7b8>,\n",
       " <__main__.Exercise at 0x18e0eef60>,\n",
       " <__main__.Exercise at 0x18e0eebe0>,\n",
       " <__main__.Exercise at 0x18b96ec18>,\n",
       " <__main__.Exercise at 0x18b96e4e0>,\n",
       " <__main__.Exercise at 0x18b96b5f8>,\n",
       " <__main__.Exercise at 0x18b96bfd0>,\n",
       " <__main__.Exercise at 0x18b966470>,\n",
       " <__main__.Exercise at 0x18b963550>,\n",
       " <__main__.Exercise at 0x18b963ef0>,\n",
       " <__main__.Exercise at 0x18b963198>,\n",
       " <__main__.Exercise at 0x18b95f748>,\n",
       " <__main__.Exercise at 0x18b95feb8>,\n",
       " <__main__.Exercise at 0x18b95c630>,\n",
       " <__main__.Exercise at 0x18b957c88>,\n",
       " <__main__.Exercise at 0x18b957320>,\n",
       " <__main__.Exercise at 0x18b953fd0>,\n",
       " <__main__.Exercise at 0x18b953940>,\n",
       " <__main__.Exercise at 0x18b952dd8>,\n",
       " <__main__.Exercise at 0x18b950a58>,\n",
       " <__main__.Exercise at 0x18b950f60>,\n",
       " <__main__.Exercise at 0x18b94de48>,\n",
       " <__main__.Exercise at 0x18b94d668>,\n",
       " <__main__.Exercise at 0x18b94a908>,\n",
       " <__main__.Exercise at 0x18b94afd0>,\n",
       " <__main__.Exercise at 0x18b94a320>,\n",
       " <__main__.Exercise at 0x18b943860>,\n",
       " <__main__.Exercise at 0x18b9434e0>,\n",
       " <__main__.Exercise at 0x18b943f98>,\n",
       " <__main__.Exercise at 0x18b940a58>,\n",
       " <__main__.Exercise at 0x18b940f60>,\n",
       " <__main__.Exercise at 0x18b9403c8>,\n",
       " <__main__.Exercise at 0x18b93ffd0>,\n",
       " <__main__.Exercise at 0x18b93fb38>,\n",
       " <__main__.Exercise at 0x18b93ab70>,\n",
       " <__main__.Exercise at 0x18b93a860>,\n",
       " <__main__.Exercise at 0x18b9357b8>,\n",
       " <__main__.Exercise at 0x18b935c18>,\n",
       " <__main__.Exercise at 0x18b935198>,\n",
       " <__main__.Exercise at 0x18b932a58>,\n",
       " <__main__.Exercise at 0x18b932358>,\n",
       " <__main__.Exercise at 0x18b92feb8>,\n",
       " <__main__.Exercise at 0x18b92f588>,\n",
       " <__main__.Exercise at 0x185631ba8>,\n",
       " <__main__.Exercise at 0x185631828>,\n",
       " <__main__.Exercise at 0x18562f828>,\n",
       " <__main__.Exercise at 0x18562fef0>,\n",
       " <__main__.Exercise at 0x18562f390>,\n",
       " <__main__.Exercise at 0x185629c50>,\n",
       " <__main__.Exercise at 0x185629518>,\n",
       " <__main__.Exercise at 0x185626978>,\n",
       " <__main__.Exercise at 0x185626f28>,\n",
       " <__main__.Exercise at 0x185626208>,\n",
       " <__main__.Exercise at 0x185625c50>,\n",
       " <__main__.Exercise at 0x185625668>,\n",
       " <__main__.Exercise at 0x185621ac8>,\n",
       " <__main__.Exercise at 0x1856214e0>,\n",
       " <__main__.Exercise at 0x18561dbe0>,\n",
       " <__main__.Exercise at 0x18561d4a8>,\n",
       " <__main__.Exercise at 0x185617a58>,\n",
       " <__main__.Exercise at 0x185617f28>,\n",
       " <__main__.Exercise at 0x185617358>,\n",
       " <__main__.Exercise at 0x185613e80>,\n",
       " <__main__.Exercise at 0x1856134a8>,\n",
       " <__main__.Exercise at 0x185612828>,\n",
       " <__main__.Exercise at 0x18560c7b8>,\n",
       " <__main__.Exercise at 0x18560c470>,\n",
       " <__main__.Exercise at 0x18560ceb8>,\n",
       " <__main__.Exercise at 0x18560a908>,\n",
       " <__main__.Exercise at 0x185604f98>,\n",
       " <__main__.Exercise at 0x185604668>,\n",
       " <__main__.Exercise at 0x1856004e0>,\n",
       " <__main__.Exercise at 0x1856007f0>,\n",
       " <__main__.Exercise at 0x1855fff28>,\n",
       " <__main__.Exercise at 0x1855f8dd8>,\n",
       " <__main__.Exercise at 0x18d031e80>,\n",
       " <__main__.Exercise at 0x18d031240>,\n",
       " <__main__.Exercise at 0x18d0339b0>,\n",
       " <__main__.Exercise at 0x18d033358>,\n",
       " <__main__.Exercise at 0x18d038b70>,\n",
       " <__main__.Exercise at 0x18d0389b0>,\n",
       " <__main__.Exercise at 0x18d0386d8>,\n",
       " <__main__.Exercise at 0x18d03f9b0>,\n",
       " <__main__.Exercise at 0x18d03f320>,\n",
       " <__main__.Exercise at 0x18d045748>,\n",
       " <__main__.Exercise at 0x18d045e48>,\n",
       " <__main__.Exercise at 0x18d049dd8>,\n",
       " <__main__.Exercise at 0x18d04cb00>,\n",
       " <__main__.Exercise at 0x18d050908>,\n",
       " <__main__.Exercise at 0x18d050fd0>,\n",
       " <__main__.Exercise at 0x18d055c18>,\n",
       " <__main__.Exercise at 0x18d0563c8>,\n",
       " <__main__.Exercise at 0x18d05c780>,\n",
       " <__main__.Exercise at 0x18d05c470>,\n",
       " <__main__.Exercise at 0x18d05f630>,\n",
       " <__main__.Exercise at 0x18d05c240>,\n",
       " <__main__.Exercise at 0x18d069ba8>,\n",
       " <__main__.Exercise at 0x18d0692e8>,\n",
       " <__main__.Exercise at 0x18d06ce10>,\n",
       " <__main__.Exercise at 0x18d06c390>,\n",
       " <__main__.Exercise at 0x18cff1fd0>,\n",
       " <__main__.Exercise at 0x18cff1710>,\n",
       " <__main__.Exercise at 0x18cff4908>,\n",
       " <__main__.Exercise at 0x18cff7dd8>,\n",
       " <__main__.Exercise at 0x18cff7240>,\n",
       " <__main__.Exercise at 0x18cffccf8>,\n",
       " <__main__.Exercise at 0x18cffc470>,\n",
       " <__main__.Exercise at 0x18d000ba8>,\n",
       " <__main__.Exercise at 0x18d0004a8>,\n",
       " <__main__.Exercise at 0x18d005fd0>,\n",
       " <__main__.Exercise at 0x18d0052e8>,\n",
       " <__main__.Exercise at 0x18d00bb38>,\n",
       " <__main__.Exercise at 0x18d00e518>,\n",
       " <__main__.Exercise at 0x18d00eba8>,\n",
       " <__main__.Exercise at 0x18d00e1d0>,\n",
       " <__main__.Exercise at 0x18d012908>,\n",
       " <__main__.Exercise at 0x18d012240>,\n",
       " <__main__.Exercise at 0x18d012e80>,\n",
       " <__main__.Exercise at 0x18d017e10>,\n",
       " <__main__.Exercise at 0x18d017860>,\n",
       " <__main__.Exercise at 0x18d01bb38>,\n",
       " <__main__.Exercise at 0x18d01bef0>,\n",
       " <__main__.Exercise at 0x18d020c88>,\n",
       " <__main__.Exercise at 0x18d023f60>,\n",
       " <__main__.Exercise at 0x18d0230f0>,\n",
       " <__main__.Exercise at 0x18d0278d0>,\n",
       " <__main__.Exercise at 0x18d02db00>,\n",
       " <__main__.Exercise at 0x18d02d208>,\n",
       " <__main__.Exercise at 0x18d02f748>,\n",
       " <__main__.Exercise at 0x18d02fef0>,\n",
       " <__main__.Exercise at 0x18cfb3b70>,\n",
       " <__main__.Exercise at 0x18cfb8a20>,\n",
       " <__main__.Exercise at 0x18cfb8908>,\n",
       " <__main__.Exercise at 0x18cfb8518>,\n",
       " <__main__.Exercise at 0x18cfbfa90>,\n",
       " <__main__.Exercise at 0x18cfc4160>,\n",
       " <__main__.Exercise at 0x18cfc4438>,\n",
       " <__main__.Exercise at 0x18cfc7be0>,\n",
       " <__main__.Exercise at 0x18cfcbc18>,\n",
       " <__main__.Exercise at 0x18cfcb780>,\n",
       " <__main__.Exercise at 0x18cfce978>,\n",
       " <__main__.Exercise at 0x18cfcef98>,\n",
       " <__main__.Exercise at 0x18cfd3cc0>,\n",
       " <__main__.Exercise at 0x18cfcecf8>,\n",
       " <__main__.Exercise at 0x18cfd6780>,\n",
       " <__main__.Exercise at 0x18cfdb518>,\n",
       " <__main__.Exercise at 0x18cfdbf28>,\n",
       " <__main__.Exercise at 0x18cfdea58>,\n",
       " <__main__.Exercise at 0x18cfde278>,\n",
       " <__main__.Exercise at 0x18cfe1978>,\n",
       " <__main__.Exercise at 0x18cfe1f28>,\n",
       " <__main__.Exercise at 0x18cfe1390>,\n",
       " <__main__.Exercise at 0x18cfe8da0>,\n",
       " <__main__.Exercise at 0x18cfe8a20>,\n",
       " <__main__.Exercise at 0x18cfedf28>,\n",
       " <__main__.Exercise at 0x18cfedb00>,\n",
       " <__main__.Exercise at 0x18cfeec50>,\n",
       " <__main__.Exercise at 0x18cfee5f8>,\n",
       " <__main__.Exercise at 0x18cf74cf8>,\n",
       " <__main__.Exercise at 0x18cf74240>,\n",
       " <__main__.Exercise at 0x18cf78cc0>,\n",
       " <__main__.Exercise at 0x18cf784e0>,\n",
       " <__main__.Exercise at 0x18cf7ccf8>,\n",
       " <__main__.Exercise at 0x18cf7c278>,\n",
       " <__main__.Exercise at 0x18cf80630>,\n",
       " <__main__.Exercise at 0x18cf80160>,\n",
       " <__main__.Exercise at 0x18cf846d8>,\n",
       " <__main__.Exercise at 0x18cf889e8>,\n",
       " <__main__.Exercise at 0x18cf88208>,\n",
       " <__main__.Exercise at 0x18cf8c5c0>,\n",
       " <__main__.Exercise at 0x18cf8fcc0>,\n",
       " <__main__.Exercise at 0x18cf8f240>,\n",
       " <__main__.Exercise at 0x18cf8ff28>,\n",
       " <__main__.Exercise at 0x18cf93ac8>,\n",
       " <__main__.Exercise at 0x18cf97cf8>,\n",
       " <__main__.Exercise at 0x18cf97400>,\n",
       " <__main__.Exercise at 0x18cf9bd68>,\n",
       " <__main__.Exercise at 0x18cf9b7f0>,\n",
       " <__main__.Exercise at 0x18cf9bf98>,\n",
       " <__main__.Exercise at 0x18cf9ff28>,\n",
       " <__main__.Exercise at 0x18cfa3390>,\n",
       " <__main__.Exercise at 0x18cfa6898>,\n",
       " <__main__.Exercise at 0x18cfa6198>,\n",
       " <__main__.Exercise at 0x18cfaa4e0>,\n",
       " <__main__.Exercise at 0x18cfafba8>,\n",
       " <__main__.Exercise at 0x18cfaf2b0>,\n",
       " <__main__.Exercise at 0x18cf32c18>,\n",
       " <__main__.Exercise at 0x18cf32550>,\n",
       " <__main__.Exercise at 0x18cf37908>,\n",
       " <__main__.Exercise at 0x18cf3bac8>,\n",
       " <__main__.Exercise at 0x18cf3b390>,\n",
       " <__main__.Exercise at 0x18cf3bef0>,\n",
       " <__main__.Exercise at 0x18cf3f898>,\n",
       " <__main__.Exercise at 0x18cf44e10>,\n",
       " <__main__.Exercise at 0x18cf44550>,\n",
       " <__main__.Exercise at 0x18cf499e8>,\n",
       " <__main__.Exercise at 0x18cf49438>,\n",
       " <__main__.Exercise at 0x18cf4be10>,\n",
       " <__main__.Exercise at 0x18cf4b438>,\n",
       " <__main__.Exercise at 0x18cf50d68>,\n",
       " <__main__.Exercise at 0x18cf507f0>,\n",
       " <__main__.Exercise at 0x18cf54b00>,\n",
       " <__main__.Exercise at 0x18cf544a8>,\n",
       " <__main__.Exercise at 0x18cf57b38>,\n",
       " <__main__.Exercise at 0x18cf57fd0>,\n",
       " <__main__.Exercise at 0x18cf57550>,\n",
       " <__main__.Exercise at 0x18cf5c908>,\n",
       " <__main__.Exercise at 0x18cf5cdd8>,\n",
       " <__main__.Exercise at 0x18cf5c4a8>,\n",
       " <__main__.Exercise at 0x18cf606d8>,\n",
       " <__main__.Exercise at 0x18cf60e80>,\n",
       " <__main__.Exercise at 0x18cf62ac8>,\n",
       " <__main__.Exercise at 0x18cf62668>,\n",
       " <__main__.Exercise at 0x18cf685c0>,\n",
       " <__main__.Exercise at 0x18cf68f98>,\n",
       " <__main__.Exercise at 0x18cf6ce80>,\n",
       " <__main__.Exercise at 0x18cf6fcc0>,\n",
       " <__main__.Exercise at 0x18cf6f278>,\n",
       " <__main__.Exercise at 0x18cef46a0>,\n",
       " <__main__.Exercise at 0x18cef4d30>,\n",
       " <__main__.Exercise at 0x18cef4208>,\n",
       " <__main__.Exercise at 0x18cef98d0>,\n",
       " <__main__.Exercise at 0x18cef9550>,\n",
       " <__main__.Exercise at 0x18cefd9e8>,\n",
       " <__main__.Exercise at 0x18cefd358>,\n",
       " <__main__.Exercise at 0x18cf01358>,\n",
       " <__main__.Exercise at 0x186e01278>,\n",
       " <__main__.Exercise at 0x186e019e8>,\n",
       " <__main__.Exercise at 0x186e07780>,\n",
       " <__main__.Exercise at 0x186e07b38>,\n",
       " <__main__.Exercise at 0x186e07278>,\n",
       " <__main__.Exercise at 0x186e07f98>,\n",
       " <__main__.Exercise at 0x186e0fba8>,\n",
       " <__main__.Exercise at 0x186e0f710>,\n",
       " <__main__.Exercise at 0x186e13e80>,\n",
       " <__main__.Exercise at 0x186e18c88>,\n",
       " <__main__.Exercise at 0x186e132b0>,\n",
       " <__main__.Exercise at 0x186e1ee48>,\n",
       " <__main__.Exercise at 0x186e1e2b0>,\n",
       " <__main__.Exercise at 0x186e1f860>,\n",
       " <__main__.Exercise at 0x186e1fe10>,\n",
       " <__main__.Exercise at 0x186e1f630>,\n",
       " <__main__.Exercise at 0x186e265f8>,\n",
       " <__main__.Exercise at 0x186e26a20>,\n",
       " <__main__.Exercise at 0x186e26198>,\n",
       " <__main__.Exercise at 0x186e26f28>,\n",
       " <__main__.Exercise at 0x186e2edd8>,\n",
       " <__main__.Exercise at 0x186e2e470>,\n",
       " <__main__.Exercise at 0x186e33c50>,\n",
       " <__main__.Exercise at 0x186e33278>,\n",
       " <__main__.Exercise at 0x186e37828>,\n",
       " <__main__.Exercise at 0x186e37fd0>,\n",
       " <__main__.Exercise at 0x186e3d7f0>,\n",
       " <__main__.Exercise at 0x186e3de48>,\n",
       " <__main__.Exercise at 0x186e41ef0>,\n",
       " <__main__.Exercise at 0x186e41cc0>,\n",
       " <__main__.Exercise at 0x186e467b8>,\n",
       " <__main__.Exercise at 0x186e46390>,\n",
       " <__main__.Exercise at 0x186e46ef0>,\n",
       " <__main__.Exercise at 0x186e4af28>,\n",
       " <__main__.Exercise at 0x186e4e9b0>,\n",
       " <__main__.Exercise at 0x186e4eda0>,\n",
       " <__main__.Exercise at 0x186e53cf8>,\n",
       " <__main__.Exercise at 0x186e53860>,\n",
       " <__main__.Exercise at 0x186e58c88>,\n",
       " <__main__.Exercise at 0x186e58358>,\n",
       " <__main__.Exercise at 0x186e5bcc0>,\n",
       " <__main__.Exercise at 0x186e5b908>,\n",
       " <__main__.Exercise at 0x186e60eb8>]"
      ]
     },
     "execution_count": 44,
     "metadata": {},
     "output_type": "execute_result"
    }
   ],
   "source": [
    "train_x[0].exercises"
   ]
  },
  {
   "cell_type": "markdown",
   "metadata": {},
   "source": [
    "Get the first exercise this person did:"
   ]
  },
  {
   "cell_type": "code",
   "execution_count": 50,
   "metadata": {},
   "outputs": [
    {
     "data": {
      "text/plain": [
       "<__main__.Exercise at 0x185507b38>"
      ]
     },
     "execution_count": 50,
     "metadata": {},
     "output_type": "execute_result"
    }
   ],
   "source": [
    "train_x[0].exercises[0]"
   ]
  },
  {
   "cell_type": "markdown",
   "metadata": {},
   "source": [
    "Examine the raw text of the exercise:"
   ]
  },
  {
   "cell_type": "code",
   "execution_count": 78,
   "metadata": {},
   "outputs": [
    {
     "data": {
      "text/plain": [
       "['# user:XEinXf5+  countries:CO  days:0.003  client:web  session:lesson  format:reverse_translate  time:9',\n",
       " 'DRihrVmh0101  I             I             PRON    case=Nom|prontype=Prs|fpos=PRON++PRP|number=Sing|person=1               nsubj        4  0',\n",
       " 'DRihrVmh0102  am            be            AUX     mood=Ind|fpos=AUX++VBP|number=Sing|person=1|tense=Pres|verbform=Fin     cop          4  0',\n",
       " 'DRihrVmh0103  a             a             DET     prontype=Art|definite=Ind|fpos=DET++DT                                  det          4  0',\n",
       " 'DRihrVmh0104  boy           boy           NOUN    fpos=NOUN++NN|number=Sing                                               root         0  0']"
      ]
     },
     "execution_count": 78,
     "metadata": {},
     "output_type": "execute_result"
    }
   ],
   "source": [
    "train_x[0].exercises[0].textlist"
   ]
  },
  {
   "cell_type": "markdown",
   "metadata": {},
   "source": [
    "Some of the other features defined on the exercise:"
   ]
  },
  {
   "cell_type": "code",
   "execution_count": 80,
   "metadata": {},
   "outputs": [
    {
     "data": {
      "text/plain": [
       "{'client:web': 1.0,\n",
       " 'exercise_length': 4,\n",
       " 'exercise_num': 1,\n",
       " 'format:reverse_translate': 1.0,\n",
       " 'log_time': 2.5649493574615367,\n",
       " 'session:lesson': 1.0,\n",
       " 'time': 12}"
      ]
     },
     "execution_count": 80,
     "metadata": {},
     "output_type": "execute_result"
    }
   ],
   "source": [
    "train_x[0].exercises[1].features"
   ]
  },
  {
   "cell_type": "markdown",
   "metadata": {},
   "source": [
    "Each exercise has a list of Instance() instances which are are python structured representation of the entried of the exercise"
   ]
  },
  {
   "cell_type": "code",
   "execution_count": 58,
   "metadata": {},
   "outputs": [
    {
     "data": {
      "text/plain": [
       "[<__main__.Instance at 0x185507ba8>,\n",
       " <__main__.Instance at 0x185507cc0>,\n",
       " <__main__.Instance at 0x185507e80>,\n",
       " <__main__.Instance at 0x18dd2f2b0>]"
      ]
     },
     "execution_count": 58,
     "metadata": {},
     "output_type": "execute_result"
    }
   ],
   "source": [
    "train_x[0].exercises[0].instances"
   ]
  },
  {
   "cell_type": "markdown",
   "metadata": {},
   "source": [
    "Which itself has a lot of features many which are akin to the basic and position features described above, but also including temporal features such as `root:erravg0` which is keeping track of a exponential smoothed average of error probability, etc...  \n",
    "\n",
    "note: these same things aren't all present for the first items in the exercise list (this is showing the last item) because error average isn't yet defined."
   ]
  },
  {
   "cell_type": "code",
   "execution_count": 68,
   "metadata": {},
   "outputs": [
    {
     "data": {
      "text/plain": [
       "{'dependency_label:nsubj': 1.0,\n",
       " 'morphological_feature:case_Nom': 1.0,\n",
       " 'morphological_feature:fpos_PRON++PRP': 1.0,\n",
       " 'morphological_feature:gender_Fem': 1.0,\n",
       " 'morphological_feature:number_Sing': 1.0,\n",
       " 'morphological_feature:person_3': 1.0,\n",
       " 'morphological_feature:prontype_Prs': 1.0,\n",
       " 'next_pos:AUX': 1.0,\n",
       " 'part_of_speech:PRON': 1.0,\n",
       " 'prev_pos:None': 1.0,\n",
       " 'root:encounters': 24,\n",
       " 'root:encounters_lab': 21,\n",
       " 'root:encounters_unlab': 3,\n",
       " 'root:erravg0': 0.0,\n",
       " 'root:erravg1': 0.0,\n",
       " 'root:erravg2': 0.0,\n",
       " 'root:erravg3': 0.0,\n",
       " 'root:time_since_last_encounter': 1.1430000000000007,\n",
       " 'root:time_since_last_label': 4.352,\n",
       " 'root_pos:NOUN': 1.0,\n",
       " 'token:encounters': 24,\n",
       " 'token:encounters_lab': 21,\n",
       " 'token:encounters_unlab': 3,\n",
       " 'token:erravg0': 0.0,\n",
       " 'token:erravg1': 0.0,\n",
       " 'token:erravg2': 0.0,\n",
       " 'token:erravg3': 0.0,\n",
       " 'token:she_en': 1.0,\n",
       " 'token:time_since_last_encounter': 1.1430000000000007,\n",
       " 'token:time_since_last_label': 4.352,\n",
       " 'word_length': 6}"
      ]
     },
     "execution_count": 68,
     "metadata": {},
     "output_type": "execute_result"
    }
   ],
   "source": [
    "train_x[0].exercises[-1].instances[0].features"
   ]
  },
  {
   "cell_type": "markdown",
   "metadata": {},
   "source": [
    "## Examining user properties"
   ]
  },
  {
   "cell_type": "markdown",
   "metadata": {},
   "source": [
    "Days is not a feature currently but is a value in the header of each exercise that says how long since the person started duolingo the current exercise was completed.  These intervals might index something about user engagement or consisteny and so might be interesting.  The following cell step through an example so you can see how to analyze and possibly add this feature."
   ]
  },
  {
   "cell_type": "code",
   "execution_count": 95,
   "metadata": {
    "collapsed": true
   },
   "outputs": [],
   "source": [
    "import plotly\n",
    "\n",
    "import plotly.plotly as py\n",
    "import plotly.graph_objs as go\n",
    "from plotly.offline import download_plotlyjs, init_notebook_mode, plot, iplot"
   ]
  },
  {
   "cell_type": "markdown",
   "metadata": {},
   "source": [
    "This plots a scatter plot where the x location of the point is the time in days since the first session (so whole numbers are 24 intervals).   If you try different `user_number` values you can see how different people used it."
   ]
  },
  {
   "cell_type": "code",
   "execution_count": 102,
   "metadata": {},
   "outputs": [
    {
     "data": {
      "text/html": [
       "<iframe id=\"igraph\" scrolling=\"no\" style=\"border:none;\" seamless=\"seamless\" src=\"https://plot.ly/~todd.gureckis/19.embed\" height=\"525px\" width=\"100%\"></iframe>"
      ],
      "text/plain": [
       "<plotly.tools.PlotlyDisplay object>"
      ]
     },
     "execution_count": 102,
     "metadata": {},
     "output_type": "execute_result"
    }
   ],
   "source": [
    "user_number = 0\n",
    "x_days = [train_x[user_number].exercises[i].days for i in range(len(train_x[0].exercises))]\n",
    "\n",
    "trace = go.Scatter(\n",
    "    x = x_days,\n",
    "    y = [1.0]*len(x_days),\n",
    "    mode='markers',\n",
    "    marker=dict(opacity=0.2)\n",
    ")\n",
    "\n",
    "data = [trace]\n",
    "py.iplot(data, filename='basic')"
   ]
  },
  {
   "cell_type": "markdown",
   "metadata": {},
   "source": [
    "This does a modulo on the number of days for each session then plots the resulting data as a histogram.  Most of the plots then show a bi-modal distribution which is nightime.  Is there something interesting there about consistency in time and performance?"
   ]
  },
  {
   "cell_type": "code",
   "execution_count": 116,
   "metadata": {},
   "outputs": [
    {
     "data": {
      "text/html": [
       "<iframe id=\"igraph\" scrolling=\"no\" style=\"border:none;\" seamless=\"seamless\" src=\"https://plot.ly/~todd.gureckis/19.embed\" height=\"525px\" width=\"100%\"></iframe>"
      ],
      "text/plain": [
       "<plotly.tools.PlotlyDisplay object>"
      ]
     },
     "execution_count": 116,
     "metadata": {},
     "output_type": "execute_result"
    }
   ],
   "source": [
    "user_number = 5\n",
    "x_days = [train_x[user_number].exercises[i].days%1.0 for i in range(len(train_x[user_number].exercises))]\n",
    "\n",
    "\n",
    "data = [go.Histogram(x=x_days)]\n",
    "\n",
    "py.iplot(data, filename='basic')"
   ]
  },
  {
   "cell_type": "markdown",
   "metadata": {},
   "source": [
    "This is everyone we loaded originaly (NUSERS) together"
   ]
  },
  {
   "cell_type": "code",
   "execution_count": 120,
   "metadata": {},
   "outputs": [
    {
     "data": {
      "text/html": [
       "<iframe id=\"igraph\" scrolling=\"no\" style=\"border:none;\" seamless=\"seamless\" src=\"https://plot.ly/~todd.gureckis/19.embed\" height=\"525px\" width=\"100%\"></iframe>"
      ],
      "text/plain": [
       "<plotly.tools.PlotlyDisplay object>"
      ]
     },
     "execution_count": 120,
     "metadata": {},
     "output_type": "execute_result"
    }
   ],
   "source": [
    "times = []\n",
    "for user_number in range(len(train_x)):\n",
    "    for i in range(len(train_x[user_number].exercises)):\n",
    "        times.append(train_x[user_number].exercises[i].days%1.0)\n",
    "    \n",
    "\n",
    "data = [go.Histogram(x=times)]\n",
    "\n",
    "py.iplot(data, filename='basic')"
   ]
  },
  {
   "cell_type": "code",
   "execution_count": null,
   "metadata": {
    "collapsed": true
   },
   "outputs": [],
   "source": []
  }
 ],
 "metadata": {
  "kernelspec": {
   "display_name": "Python 3",
   "language": "python",
   "name": "python3"
  },
  "language_info": {
   "codemirror_mode": {
    "name": "ipython",
    "version": 3
   },
   "file_extension": ".py",
   "mimetype": "text/x-python",
   "name": "python",
   "nbconvert_exporter": "python",
   "pygments_lexer": "ipython3",
   "version": "3.6.3"
  }
 },
 "nbformat": 4,
 "nbformat_minor": 2
}
